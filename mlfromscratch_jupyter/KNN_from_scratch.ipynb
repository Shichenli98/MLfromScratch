{
 "cells": [
  {
   "cell_type": "markdown",
   "id": "0080fa6e",
   "metadata": {},
   "source": [
    "# KNN from scratch"
   ]
  },
  {
   "cell_type": "code",
   "execution_count": 5,
   "id": "fe482d8b",
   "metadata": {},
   "outputs": [
    {
     "data": {
      "text/plain": [
       "[[2.7810836, 2.550537003, 0],\n",
       " [3.06407232, 3.005305973, 0],\n",
       " [1.465489372, 2.362125076, 0]]"
      ]
     },
     "execution_count": 5,
     "metadata": {},
     "output_type": "execute_result"
    }
   ],
   "source": [
    "# Example of calculating Euclidean distance\n",
    "from math import sqrt\n",
    "\n",
    "# calculate the Euclidean distance between two vectors\n",
    "def euclidean_distance(a, b):\n",
    "    distance = 0.0\n",
    "    for i in range(len(a)-1):\n",
    "        distance += (a[i] - b[i])**2\n",
    "    return sqrt(distance)\n",
    "\n",
    "# fetch nearest k neighbors\n",
    "def get_neighbors(trainset, target, k):\n",
    "    distances = []\n",
    "    for trainrow in trainset:\n",
    "        distance = euclidean_distance(trainrow, target)\n",
    "        distances.append((trainrow, distance))\n",
    "    distances.sort(key=lambda tup: tup[1])\n",
    "    \n",
    "    neighbors = []\n",
    "    for i in range(k):\n",
    "        neighbors.append(distances[i][0])\n",
    "    return neighbors\n",
    "\n",
    "# predict by majority\n",
    "def predict_class(trainset, target, k):\n",
    "    neighbors = get_neighbors(trainset, target, k)\n",
    "    labels = [neighbor[-1] for neighbor in neighbors]\n",
    "    prediction = max(set(labels), key=labels.count)\n",
    "    return prediction\n",
    "\n",
    "# Test distance function\n",
    "# (row[0], row[1]) as instance, row[2] as label\n",
    "dataset = [[2.7810836,2.550537003,0],\n",
    "    [1.465489372,2.362125076,0],\n",
    "    [3.396561688,4.400293529,0],\n",
    "    [1.38807019,1.850220317,0],\n",
    "    [3.06407232,3.005305973,0],\n",
    "    [7.627531214,2.759262235,1],\n",
    "    [5.332441248,2.088626775,1],\n",
    "    [6.922596716,1.77106367,1],\n",
    "    [8.675418651,-0.242068655,1],\n",
    "    [7.673756466,3.508563011,1]]\n",
    "row0 = dataset[0]\n",
    "get_neighbors(dataset, row0, 3)"
   ]
  },
  {
   "cell_type": "code",
   "execution_count": 21,
   "id": "e6cd08bf",
   "metadata": {},
   "outputs": [
    {
     "name": "stdout",
     "output_type": "stream",
     "text": [
      "<class 'float'>\n"
     ]
    }
   ],
   "source": [
    "print(type(row0[0]))"
   ]
  },
  {
   "cell_type": "code",
   "execution_count": 30,
   "id": "12afec13",
   "metadata": {},
   "outputs": [
    {
     "name": "stdout",
     "output_type": "stream",
     "text": [
      "Expected 0, Got 0.\n"
     ]
    },
    {
     "data": {
      "text/plain": [
       "<matplotlib.collections.PathCollection at 0x22f49a6da30>"
      ]
     },
     "execution_count": 30,
     "metadata": {},
     "output_type": "execute_result"
    },
    {
     "data": {
      "image/png": "[encoded data removed]",
      "text/plain": [
       "<Figure size 432x288 with 1 Axes>"
      ]
     },
     "metadata": {
      "needs_background": "light"
     },
     "output_type": "display_data"
    }
   ],
   "source": [
    "import pandas as pd\n",
    "import matplotlib.pyplot as plt\n",
    "colors = {0:'r', 1:'g'}\n",
    "df = pd.DataFrame(dataset, columns = ['x', 'y', 'class'])\n",
    "\n",
    "prediction = predict_class(dataset[1:], dataset[0], 3)\n",
    "print('Expected %d, Got %d.' % (dataset[0][-1], prediction))\n",
    "\n",
    "plt.scatter(df['x'], df['y'], c = df['class'].apply(lambda x: colors[x]), alpha = 0.5)\n",
    "plt.scatter(df.iloc[0]['x'], df.iloc[0]['y'], c = 'blue', alpha = 0.5)"
   ]
  },
  {
   "cell_type": "code",
   "execution_count": null,
   "id": "d3443790",
   "metadata": {},
   "outputs": [],
   "source": []
  }
 ],
 "metadata": {
  "kernelspec": {
   "display_name": "Python 3 (ipykernel)",
   "language": "python",
   "name": "python3"
  },
  "language_info": {
   "codemirror_mode": {
    "name": "ipython",
    "version": 3
   },
   "file_extension": ".py",
   "mimetype": "text/x-python",
   "name": "python",
   "nbconvert_exporter": "python",
   "pygments_lexer": "ipython3",
   "version": "3.9.7"
  }
 },
 "nbformat": 4,
 "nbformat_minor": 5
}
