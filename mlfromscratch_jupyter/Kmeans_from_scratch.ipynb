{
 "cells": [
  {
   "cell_type": "markdown",
   "id": "a3f95d09",
   "metadata": {},
   "source": [
    "# K-means"
   ]
  },
  {
   "cell_type": "markdown",
   "id": "508c1b92",
   "metadata": {},
   "source": [
    "## create fake data"
   ]
  },
  {
   "cell_type": "code",
   "execution_count": 1,
   "id": "0c141bae",
   "metadata": {},
   "outputs": [
    {
     "data": {
      "text/html": [
       "<div>\n",
       "<style scoped>\n",
       "    .dataframe tbody tr th:only-of-type {\n",
       "        vertical-align: middle;\n",
       "    }\n",
       "\n",
       "    .dataframe tbody tr th {\n",
       "        vertical-align: top;\n",
       "    }\n",
       "\n",
       "    .dataframe thead th {\n",
       "        text-align: right;\n",
       "    }\n",
       "</style>\n",
       "<table border=\"1\" class=\"dataframe\">\n",
       "  <thead>\n",
       "    <tr style=\"text-align: right;\">\n",
       "      <th></th>\n",
       "      <th>x</th>\n",
       "      <th>y</th>\n",
       "    </tr>\n",
       "  </thead>\n",
       "  <tbody>\n",
       "    <tr>\n",
       "      <th>0</th>\n",
       "      <td>-0.542</td>\n",
       "      <td>23.761</td>\n",
       "    </tr>\n",
       "    <tr>\n",
       "      <th>1</th>\n",
       "      <td>8.129</td>\n",
       "      <td>25.661</td>\n",
       "    </tr>\n",
       "    <tr>\n",
       "      <th>2</th>\n",
       "      <td>4.239</td>\n",
       "      <td>25.298</td>\n",
       "    </tr>\n",
       "    <tr>\n",
       "      <th>3</th>\n",
       "      <td>-0.691</td>\n",
       "      <td>25.230</td>\n",
       "    </tr>\n",
       "    <tr>\n",
       "      <th>4</th>\n",
       "      <td>3.539</td>\n",
       "      <td>21.645</td>\n",
       "    </tr>\n",
       "  </tbody>\n",
       "</table>\n",
       "</div>"
      ],
      "text/plain": [
       "       x       y\n",
       "0 -0.542  23.761\n",
       "1  8.129  25.661\n",
       "2  4.239  25.298\n",
       "3 -0.691  25.230\n",
       "4  3.539  21.645"
      ]
     },
     "execution_count": 1,
     "metadata": {},
     "output_type": "execute_result"
    }
   ],
   "source": [
    "import math\n",
    "import numpy as np\n",
    "import pandas as pd\n",
    "np.random.seed(123)\n",
    "\n",
    "def circulo(num_datos = 100,R = 1, minimo = 0,maximo= 1, center_x = 0 , center_y = 0):\n",
    "    pi = math.pi\n",
    "    r = R * np.sqrt(np.random.uniform(minimo, maximo, size = num_datos)) \n",
    "    theta = np.random.uniform(minimo, maximo, size= num_datos) * 2 * pi\n",
    "\n",
    "    x = center_x + np.cos(theta) * r\n",
    "    y = center_y + np.sin(theta) * r\n",
    "\n",
    "    x = np.round(x,3)\n",
    "    y = np.round(y,3)\n",
    "\n",
    "    df = np.column_stack([x,y])\n",
    "    df = pd.DataFrame(df)\n",
    "    df.columns = ['x','y']\n",
    "    return(df)\n",
    "\n",
    "# Create data\n",
    "datos_1 = circulo(num_datos = 20,R = 10, center_x = 5, center_y = 30)\n",
    "datos_2 = circulo(num_datos = 20,R = 10, center_x = 20, center_y = 10)\n",
    "datos_3 = circulo(num_datos = 20,R = 10, center_x = 50, center_y = 50)\n",
    "\n",
    "data = datos_1.append(datos_2).append(datos_3)\n",
    "data.head()"
   ]
  },
  {
   "cell_type": "code",
   "execution_count": 2,
   "id": "4022f433",
   "metadata": {},
   "outputs": [],
   "source": [
    "original_data = data"
   ]
  },
  {
   "cell_type": "code",
   "execution_count": 3,
   "id": "8b85f676",
   "metadata": {},
   "outputs": [
    {
     "data": {
      "image/png": "[encoded data removed]",
      "text/plain": [
       "<Figure size 432x288 with 1 Axes>"
      ]
     },
     "metadata": {
      "needs_background": "light"
     },
     "output_type": "display_data"
    }
   ],
   "source": [
    "import matplotlib.pyplot as plt\n",
    "%matplotlib inline\n",
    "\n",
    "plt.scatter(datos_1['x'], datos_1['y'], c = 'b')\n",
    "plt.scatter(datos_2['x'], datos_2['y'], c = 'r')\n",
    "plt.scatter(datos_3['x'], datos_3['y'], c = 'g')\n",
    "plt.show()"
   ]
  },
  {
   "cell_type": "markdown",
   "id": "f13e50ac",
   "metadata": {},
   "source": [
    "## K-means from scratch"
   ]
  },
  {
   "cell_type": "markdown",
   "id": "54a6daad",
   "metadata": {},
   "source": [
    "### initialize centroids"
   ]
  },
  {
   "cell_type": "code",
   "execution_count": 4,
   "id": "072031b4",
   "metadata": {},
   "outputs": [
    {
     "data": {
      "text/html": [
       "<div>\n",
       "<style scoped>\n",
       "    .dataframe tbody tr th:only-of-type {\n",
       "        vertical-align: middle;\n",
       "    }\n",
       "\n",
       "    .dataframe tbody tr th {\n",
       "        vertical-align: top;\n",
       "    }\n",
       "\n",
       "    .dataframe thead th {\n",
       "        text-align: right;\n",
       "    }\n",
       "</style>\n",
       "<table border=\"1\" class=\"dataframe\">\n",
       "  <thead>\n",
       "    <tr style=\"text-align: right;\">\n",
       "      <th></th>\n",
       "      <th>x</th>\n",
       "      <th>y</th>\n",
       "    </tr>\n",
       "  </thead>\n",
       "  <tbody>\n",
       "    <tr>\n",
       "      <th>0</th>\n",
       "      <td>50.303864</td>\n",
       "      <td>13.933930</td>\n",
       "    </tr>\n",
       "    <tr>\n",
       "      <th>1</th>\n",
       "      <td>14.350891</td>\n",
       "      <td>31.562773</td>\n",
       "    </tr>\n",
       "    <tr>\n",
       "      <th>2</th>\n",
       "      <td>50.102631</td>\n",
       "      <td>57.727209</td>\n",
       "    </tr>\n",
       "  </tbody>\n",
       "</table>\n",
       "</div>"
      ],
      "text/plain": [
       "           x          y\n",
       "0  50.303864  13.933930\n",
       "1  14.350891  31.562773\n",
       "2  50.102631  57.727209"
      ]
     },
     "execution_count": 4,
     "metadata": {},
     "output_type": "execute_result"
    }
   ],
   "source": [
    "def initialize_centroids(k, data):\n",
    "    dim = data.shape[1]\n",
    "    centr_min = data.min()\n",
    "    centr_max = data.max()\n",
    "    \n",
    "    centroids = []\n",
    "    \n",
    "    for _ in range(k):\n",
    "        centroid = np.random.uniform(centr_min, centr_max, dim)\n",
    "        centroids.append(centroid)\n",
    "    \n",
    "    centroids = pd.DataFrame(centroids, columns = data.columns)\n",
    "    \n",
    "    return centroids\n",
    "\n",
    "centroids = initialize_centroids(3, data)\n",
    "centroids"
   ]
  },
  {
   "cell_type": "markdown",
   "id": "e5d01653",
   "metadata": {},
   "source": [
    "### Calculate error"
   ]
  },
  {
   "cell_type": "code",
   "execution_count": 5,
   "id": "65dc7cc8",
   "metadata": {},
   "outputs": [],
   "source": [
    "def cal_error(a, b):\n",
    "    # calculate distance between two points: a, b\n",
    "    error = np.square(np.sum((a-b)**2))\n",
    "    \n",
    "    return error"
   ]
  },
  {
   "cell_type": "code",
   "execution_count": 6,
   "id": "d6fba62b",
   "metadata": {},
   "outputs": [
    {
     "name": "stdout",
     "output_type": "stream",
     "text": [
      "x    -0.542\n",
      "y    23.761\n",
      "Name: 0, dtype: float64\n",
      "[ 7192443.57624208    79899.99749005 13827851.8644529 ]\n"
     ]
    }
   ],
   "source": [
    "# Example\n",
    "point = data.iloc[0,:2]\n",
    "print(point)\n",
    "\n",
    "errors = np.array([])\n",
    "for i in range(centroids.shape[0]):\n",
    "    centroid = centroids.iloc[i, :2]\n",
    "    error = cal_error(point, centroid)\n",
    "    errors = np.append(errors, error)\n",
    "\n",
    "print(errors)"
   ]
  },
  {
   "cell_type": "code",
   "execution_count": 7,
   "id": "d1356975",
   "metadata": {},
   "outputs": [
    {
     "data": {
      "image/png": "[encoded data removed]",
      "text/plain": [
       "<Figure size 432x288 with 1 Axes>"
      ]
     },
     "metadata": {
      "needs_background": "light"
     },
     "output_type": "display_data"
    }
   ],
   "source": [
    "plt.scatter(data.iloc[1:,0], data.iloc[1:,1],  marker = 'o', alpha = 0.2)\n",
    "plt.scatter(centroids.iloc[:,0], centroids.iloc[:,1],  marker = 'o', c = 'r')\n",
    "plt.scatter(point[0], point[1],  marker = 'o', c = 'g')\n",
    "for i in range(centroids.shape[0]):\n",
    "    plt.text(centroids.iloc[i,0]+1, centroids.iloc[i,1]+1, s = centroids.index[i], c = 'r')"
   ]
  },
  {
   "cell_type": "code",
   "execution_count": 8,
   "id": "140b7d05",
   "metadata": {},
   "outputs": [
    {
     "data": {
      "text/plain": [
       "1"
      ]
     },
     "execution_count": 8,
     "metadata": {},
     "output_type": "execute_result"
    }
   ],
   "source": [
    "# locate the min error's index\n",
    "np.where(errors == np.amin(errors, 0))[0].tolist()[0]"
   ]
  },
  {
   "cell_type": "markdown",
   "id": "54e9888f",
   "metadata": {},
   "source": [
    "## Assign centroid to each point"
   ]
  },
  {
   "cell_type": "code",
   "execution_count": 9,
   "id": "cda2f59b",
   "metadata": {
    "scrolled": true
   },
   "outputs": [
    {
     "data": {
      "text/html": [
       "<div>\n",
       "<style scoped>\n",
       "    .dataframe tbody tr th:only-of-type {\n",
       "        vertical-align: middle;\n",
       "    }\n",
       "\n",
       "    .dataframe tbody tr th {\n",
       "        vertical-align: top;\n",
       "    }\n",
       "\n",
       "    .dataframe thead th {\n",
       "        text-align: right;\n",
       "    }\n",
       "</style>\n",
       "<table border=\"1\" class=\"dataframe\">\n",
       "  <thead>\n",
       "    <tr style=\"text-align: right;\">\n",
       "      <th></th>\n",
       "      <th>centroid</th>\n",
       "      <th>error</th>\n",
       "    </tr>\n",
       "  </thead>\n",
       "  <tbody>\n",
       "    <tr>\n",
       "      <th>0</th>\n",
       "      <td>1</td>\n",
       "      <td>79899.997490</td>\n",
       "    </tr>\n",
       "    <tr>\n",
       "      <th>1</th>\n",
       "      <td>1</td>\n",
       "      <td>5408.551819</td>\n",
       "    </tr>\n",
       "    <tr>\n",
       "      <th>2</th>\n",
       "      <td>1</td>\n",
       "      <td>20021.607118</td>\n",
       "    </tr>\n",
       "    <tr>\n",
       "      <th>3</th>\n",
       "      <td>1</td>\n",
       "      <td>70948.987085</td>\n",
       "    </tr>\n",
       "    <tr>\n",
       "      <th>4</th>\n",
       "      <td>1</td>\n",
       "      <td>46336.530388</td>\n",
       "    </tr>\n",
       "  </tbody>\n",
       "</table>\n",
       "</div>"
      ],
      "text/plain": [
       "   centroid         error\n",
       "0         1  79899.997490\n",
       "1         1   5408.551819\n",
       "2         1  20021.607118\n",
       "3         1  70948.987085\n",
       "4         1  46336.530388"
      ]
     },
     "execution_count": 9,
     "metadata": {},
     "output_type": "execute_result"
    }
   ],
   "source": [
    "def assign_centroid(data, centroids):\n",
    "    num_data = data.shape[0]\n",
    "    k = centroids.shape[0]\n",
    "    centroid_assign = []\n",
    "    centroid_errors = []\n",
    "    \n",
    "    for i in range(num_data):\n",
    "        errors = np.array([])\n",
    "        node = data.iloc[i, :2]\n",
    "        for j in range(k):\n",
    "            error = cal_error(node, centroids.iloc[j, :2])\n",
    "            errors = np.append(errors, error)\n",
    "            \n",
    "        centroid_error = np.amin(errors, 0)\n",
    "        closest_centroid = np.where(errors == centroid_error)[0].tolist()[0]\n",
    "        \n",
    "        centroid_assign.append(closest_centroid)\n",
    "        centroid_errors.append(centroid_error)\n",
    "    \n",
    "    return (centroid_assign, centroid_errors)\n",
    "\n",
    "data['centroid'], data['error'] = assign_centroid(data.iloc[:,:2] ,centroids)\n",
    "data[['centroid', 'error']].head()"
   ]
  },
  {
   "cell_type": "code",
   "execution_count": 10,
   "id": "436a37ff",
   "metadata": {},
   "outputs": [
    {
     "data": {
      "text/plain": [
       "<matplotlib.collections.PathCollection at 0x22b5eae16d0>"
      ]
     },
     "execution_count": 10,
     "metadata": {},
     "output_type": "execute_result"
    },
    {
     "data": {
      "image/png": "[encoded data removed]",
      "text/plain": [
       "<Figure size 432x288 with 1 Axes>"
      ]
     },
     "metadata": {
      "needs_background": "light"
     },
     "output_type": "display_data"
    }
   ],
   "source": [
    "colors = {0:'red', 1:'blue', 2:'green'}\n",
    "plt.title('oritginal_centroids')\n",
    "plt.scatter(data.iloc[:,0], data.iloc[:,1],  marker = 'o', c = data['centroid'].apply(lambda x: colors[x]), alpha = 0.5)\n",
    "plt.scatter(centroids.iloc[:,0], centroids.iloc[:,1],  marker = 'o', s=300, \n",
    "           c = centroids.index.map(lambda x: colors[x]))"
   ]
  },
  {
   "cell_type": "code",
   "execution_count": 11,
   "id": "ca3398d8",
   "metadata": {},
   "outputs": [
    {
     "data": {
      "text/plain": [
       "8896533.553262657"
      ]
     },
     "execution_count": 11,
     "metadata": {},
     "output_type": "execute_result"
    }
   ],
   "source": [
    "data['error'].sum()"
   ]
  },
  {
   "cell_type": "code",
   "execution_count": 12,
   "id": "5935eae7",
   "metadata": {
    "scrolled": true
   },
   "outputs": [
    {
     "name": "stdout",
     "output_type": "stream",
     "text": [
      "original centroids\n",
      "            x          y\n",
      "0  50.303864  13.933930\n",
      "1  14.350891  31.562773\n",
      "2  50.102631  57.727209\n",
      "new centroids\n",
      "            x          y\n",
      "0  25.966500   3.109000\n",
      "1  10.528579  20.395105\n",
      "2  48.898800  50.526050\n"
     ]
    }
   ],
   "source": [
    "data_columns = ['x', 'y']\n",
    "\n",
    "new_centroids = data.groupby('centroid').agg('mean').loc[:, data_columns].reset_index(drop = True)\n",
    "print('original centroids\\n', centroids)\n",
    "print('new centroids\\n', new_centroids)"
   ]
  },
  {
   "cell_type": "code",
   "execution_count": 13,
   "id": "17a745b4",
   "metadata": {},
   "outputs": [
    {
     "data": {
      "text/plain": [
       "<matplotlib.collections.PathCollection at 0x22b5eb5c6a0>"
      ]
     },
     "execution_count": 13,
     "metadata": {},
     "output_type": "execute_result"
    },
    {
     "data": {
      "image/png": "[encoded data removed]",
      "text/plain": [
       "<Figure size 432x288 with 1 Axes>"
      ]
     },
     "metadata": {
      "needs_background": "light"
     },
     "output_type": "display_data"
    }
   ],
   "source": [
    "plt.title('new_centroids')\n",
    "plt.scatter(data.iloc[:,0], data.iloc[:,1],  marker = 'o', c = data['centroid'].apply(lambda x: colors[x]), alpha = 0.5)\n",
    "plt.scatter(new_centroids.iloc[:,0], new_centroids.iloc[:,1],  marker = 'o', s=300, \n",
    "           c = new_centroids.index.map(lambda x: colors[x]))"
   ]
  },
  {
   "cell_type": "markdown",
   "id": "64d1b9ee",
   "metadata": {},
   "source": [
    "## Putting all together K-means algorithm"
   ]
  },
  {
   "cell_type": "code",
   "execution_count": 14,
   "id": "c7d744ad",
   "metadata": {},
   "outputs": [],
   "source": [
    "def knn(data, k):\n",
    "    '''\n",
    "    Given a dataset and number of clusters, it clusterizes the data. \n",
    "    data: a DataFrame with all information necessary\n",
    "    k: number of clusters to create\n",
    "    '''\n",
    "\n",
    "    # Initialize centroids and error\n",
    "    centroids = initialize_centroids(k, data)\n",
    "    error = []\n",
    "    compr = True\n",
    "    i = 0\n",
    "\n",
    "    while(compr):\n",
    "        # Obtain centroids and error\n",
    "        data['centroid'], iter_error = assign_centroid(data,centroids)\n",
    "        error.append(sum(iter_error))\n",
    "        print('iteration %d error: %d' %(i, error[-1]))\n",
    "        # Recalculate centroids\n",
    "        centroids = data.groupby('centroid').agg('mean').reset_index(drop = True)\n",
    "\n",
    "        # Check if the error has decreased\n",
    "        if(len(error)<2):\n",
    "            compr = True\n",
    "        else:\n",
    "            if(round(error[i],3) !=  round(error[i-1],3)):\n",
    "                compr = True\n",
    "            else:\n",
    "                compr = False\n",
    "        i = i + 1 \n",
    "\n",
    "    data['centroid'], iter_error = assign_centroid(data,centroids)\n",
    "    centroids = data.groupby('centroid').agg('mean').reset_index(drop = True)\n",
    "    return (data['centroid'], iter_error, centroids)"
   ]
  },
  {
   "cell_type": "code",
   "execution_count": 15,
   "id": "1bf880a8",
   "metadata": {},
   "outputs": [
    {
     "name": "stdout",
     "output_type": "stream",
     "text": [
      "iteration 0 error: 17965401\n",
      "iteration 1 error: 205885\n",
      "iteration 2 error: 175816\n",
      "iteration 3 error: 175816\n"
     ]
    },
    {
     "data": {
      "text/plain": [
       "0    0\n",
       "1    0\n",
       "2    0\n",
       "3    0\n",
       "4    0\n",
       "Name: centroid, dtype: int64"
      ]
     },
     "execution_count": 15,
     "metadata": {},
     "output_type": "execute_result"
    }
   ],
   "source": [
    "data['centroid'], _, centroids =  knn(data.drop(['centroid','error'], axis = 1),3)\n",
    "data['centroid'].head()  "
   ]
  },
  {
   "cell_type": "code",
   "execution_count": null,
   "id": "7ec95c01",
   "metadata": {},
   "outputs": [],
   "source": []
  }
 ],
 "metadata": {
  "kernelspec": {
   "display_name": "Python 3 (ipykernel)",
   "language": "python",
   "name": "python3"
  },
  "language_info": {
   "codemirror_mode": {
    "name": "ipython",
    "version": 3
   },
   "file_extension": ".py",
   "mimetype": "text/x-python",
   "name": "python",
   "nbconvert_exporter": "python",
   "pygments_lexer": "ipython3",
   "version": "3.9.7"
  }
 },
 "nbformat": 4,
 "nbformat_minor": 5
}
