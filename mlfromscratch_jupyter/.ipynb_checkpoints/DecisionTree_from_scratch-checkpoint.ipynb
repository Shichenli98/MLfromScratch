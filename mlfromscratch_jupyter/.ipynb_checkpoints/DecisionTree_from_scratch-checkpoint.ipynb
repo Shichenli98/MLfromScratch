{
 "cells": [
  {
   "cell_type": "markdown",
   "id": "21774ddc",
   "metadata": {},
   "source": [
    "# Decision Tree from scratch"
   ]
  },
  {
   "cell_type": "code",
   "execution_count": null,
   "id": "bb707b6e",
   "metadata": {},
   "outputs": [],
   "source": [
    "from collections import Counter\n",
    "import numpy as np\n",
    "\n",
    "def entropy(y):\n",
    "    hist = np.bincount(y)\n",
    "    probs = hist / len(y)\n",
    "    return -np.sum([p * np.log2(p) for p in probs if p > 0])\n",
    "\n",
    "class Node():\n",
    "    def __init__(self, feature=None, threshold=None, left=None, right=None, value=None):\n",
    "        self.feaeture = feature\n",
    "        self.threshold = threshold"
   ]
  }
 ],
 "metadata": {
  "kernelspec": {
   "display_name": "Python 3 (ipykernel)",
   "language": "python",
   "name": "python3"
  },
  "language_info": {
   "codemirror_mode": {
    "name": "ipython",
    "version": 3
   },
   "file_extension": ".py",
   "mimetype": "text/x-python",
   "name": "python",
   "nbconvert_exporter": "python",
   "pygments_lexer": "ipython3",
   "version": "3.9.7"
  }
 },
 "nbformat": 4,
 "nbformat_minor": 5
}
